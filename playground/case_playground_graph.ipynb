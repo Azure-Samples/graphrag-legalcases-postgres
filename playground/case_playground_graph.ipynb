{
 "cells": [
  {
   "cell_type": "code",
   "execution_count": null,
   "metadata": {},
   "outputs": [],
   "source": [
    "%pip install sshtunnel\n",
    "%pip install requests\n",
    "%pip install psycopg2\n",
    "%pip install pgvector\n",
    "%pip install python-dotenv"
   ]
  },
  {
   "cell_type": "code",
   "execution_count": null,
   "metadata": {},
   "outputs": [],
   "source": [
    "%load_ext dotenv\n",
    "%dotenv"
   ]
  },
  {
   "cell_type": "markdown",
   "metadata": {},
   "source": [
    "CREATE HELPER FOR THE DB CONNECTION"
   ]
  },
  {
   "cell_type": "code",
   "execution_count": null,
   "metadata": {},
   "outputs": [],
   "source": [
    "from sshtunnel import SSHTunnelForwarder\n",
    "import requests\n",
    "import json\n",
    "import os\n",
    "import pgvector\n",
    "import psycopg2\n",
    "from pgvector.psycopg import register_vector\n",
    "import json\n",
    "def get_db_connection():\n",
    "    # Setting up the SSH tunnel with tunnel credentials\n",
    "    REMOTE_HOST = os.getenv(\"REMOTE_HOST\")\n",
    "    REMOTE_SSH_PORT = int(os.getenv(\"REMOTE_SSH_PORT\"))\n",
    "    PORT = int(os.getenv(\"PORT\"))\n",
    "    SSH_KEYFILE = os.getenv(\"SSH_KEYFILE\")\n",
    "    SSH_USERNAME =  os.getenv(\"SSH_USERNAME\")\n",
    "\n",
    "    server = SSHTunnelForwarder(\n",
    "        ssh_address_or_host=(REMOTE_HOST, REMOTE_SSH_PORT),\n",
    "        ssh_username= SSH_USERNAME,\n",
    "        ssh_pkey=SSH_KEYFILE,\n",
    "        # Key part! Connect to AWS_HOST through the tunnel.\n",
    "        remote_bind_address=('localhost', PORT)\n",
    "    )\n",
    "    server.start()\n",
    "    print(\"server connected\")\n",
    "\n",
    "    conn_str = f\"dbname=postgres host=localhost port={server.local_bind_port} user=postgres password={os.getenv('DB_PASSWORD')}\"\n",
    "    return psycopg2.connect(conn_str)"
   ]
  },
  {
   "cell_type": "markdown",
   "metadata": {},
   "source": [
    "CREATE VERTICES FROM CASES TABLE"
   ]
  },
  {
   "cell_type": "code",
   "execution_count": null,
   "metadata": {},
   "outputs": [],
   "source": [
    "import psycopg2\n",
    "\n",
    "# Database connection parameters\n",
    "conn_params = {\n",
    "    'dbname': 'mluk-genai-demo',\n",
    "    'user': 'azureuser',\n",
    "    'password': 'Caroot-gen-0',\n",
    "    'host': '4.248.28.54',\n",
    "    'port': '5432'\n",
    "}\n",
    "\n",
    "# Connect to the PostgreSQL database\n",
    "conn = psycopg2.connect(**conn_params)\n",
    "cursor = conn.cursor()\n",
    "\n",
    "# Create a graph if it doesn't exist\n",
    "cursor.execute(\"SELECT create_graph('playground_case_graph');\")\n",
    "\n",
    "# Fetch data from the cases_playground table\n",
    "cursor.execute(\"SELECT id, data->>'id' AS case_id, data->>'name' AS name FROM cases_playground;\")\n",
    "records = cursor.fetchall()\n",
    "\n",
    "# Create vertices using Cypher\n",
    "for record in records:\n",
    "    id, case_id, name = record\n",
    "    cypher_query = f\"\"\"\n",
    "    SELECT * FROM cypher('playground_case_graph', $$\n",
    "        CREATE (c:Case {{id: {id}, case_id: '{case_id}', name: '{name}'}})\n",
    "    $$) AS (v agtype);\n",
    "    \"\"\"\n",
    "    cursor.execute(cypher_query)\n",
    "\n",
    "# Commit the transaction\n",
    "conn.commit()\n",
    "\n",
    "# Close the cursor and connection\n",
    "cursor.close()\n",
    "conn.close()\n",
    "\n",
    "print(\"Vertices created successfully.\")\n"
   ]
  }
 ],
 "metadata": {
  "language_info": {
   "name": "python"
  }
 },
 "nbformat": 4,
 "nbformat_minor": 2
}
