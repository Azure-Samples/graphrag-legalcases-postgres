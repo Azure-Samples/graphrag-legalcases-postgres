{
 "cells": [
  {
   "cell_type": "markdown",
   "metadata": {},
   "source": [
    "pip install psycopg2-binary"
   ]
  },
  {
   "cell_type": "code",
   "execution_count": null,
   "metadata": {},
   "outputs": [],
   "source": [
    "import psycopg2\n",
    "import json\n",
    "\n",
    "# Database connection parameters\n",
    "conn_params = {\n",
    "    'dbname': 'mluk-genai-demo',\n",
    "    'user': 'azureuser',\n",
    "    'password': 'password',\n",
    "    'host': 'your_host',\n",
    "    'port': '5432'\n",
    "}\n",
    "\n",
    "# Connect to PostgreSQL\n",
    "conn = psycopg2.connect(**conn_params)\n",
    "cur = conn.cursor()\n",
    "\n",
    "# Create the graph\n",
    "cur.execute(\"SELECT create_graph('pg2_case_graph');\")\n",
    "conn.commit()\n",
    "\n",
    "# Insert nodes for each case\n",
    "cur.execute(\"SELECT id, data FROM public.cases_playground;\")\n",
    "cases = cur.fetchall()\n",
    "\n",
    "for case in cases:\n",
    "    case_id, case_data = case\n",
    "    cur.execute(\"\"\"\n",
    "        SELECT * FROM cypher('pg2_case_graph', %s) as (c agtype);\n",
    "    \"\"\", (f\"\"\"\n",
    "        CREATE (c:Case {{id: '{case_id}', data: '{json.dumps(case_data)}'}})\n",
    "    \"\"\",))\n",
    "    conn.commit()\n",
    "\n",
    "# Insert edges based on cites_to\n",
    "cur.execute(\"SELECT id, data FROM public.cases_playground;\")\n",
    "cases = cur.fetchall()\n",
    "\n",
    "for case in cases:\n",
    "    case_id, case_data = case\n",
    "    case_data_json = json.loads(case_data)\n",
    "    cites_to = case_data_json.get('cites_to', {})\n",
    "    cited_case_ids = cites_to.get('case_ids', [])\n",
    "    for cited_case_id in cited_case_ids:\n",
    "        cur.execute(\"\"\"\n",
    "            SELECT * FROM cypher('pg2_case_graph', %s) as (c1 agtype, c2 agtype);\n",
    "        \"\"\", (f\"\"\"\n",
    "            MATCH (c1:Case {{id: '{case_id}'}}), (c2:Case {{id: '{cited_case_id}'}})\n",
    "            CREATE (c1)-[:CITES]->(c2)\n",
    "        \"\"\",))\n",
    "        conn.commit()\n",
    "\n",
    "# Close the connection\n",
    "cur.close()\n",
    "conn.close()\n",
    "\n"
   ]
  },
  {
   "cell_type": "markdown",
   "metadata": {},
   "source": []
  },
  {
   "cell_type": "markdown",
   "metadata": {},
   "source": []
  }
 ],
 "metadata": {
  "language_info": {
   "name": "python"
  }
 },
 "nbformat": 4,
 "nbformat_minor": 2
}
